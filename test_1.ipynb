{
 "cells": [
  {
   "cell_type": "markdown",
   "id": "a74caae3",
   "metadata": {},
   "source": [
    "# 图片\n",
    "![img](./images/5_bagging.png)"
   ]
  },
  {
   "cell_type": "markdown",
   "id": "a0d44128",
   "metadata": {
    "ExecuteTime": {
     "end_time": "2022-04-18T06:50:21.706730Z",
     "start_time": "2022-04-18T06:50:21.703819Z"
    }
   },
   "source": [
    "<img style=\"float: center;\" src=\"https://github.com/C4712/git_test_image/main/images/5_bagging.png\"></img>"
   ]
  },
  {
   "cell_type": "markdown",
   "id": "39534ac5",
   "metadata": {
    "ExecuteTime": {
     "end_time": "2022-04-18T07:38:04.807262Z",
     "start_time": "2022-04-18T07:38:04.803932Z"
    }
   },
   "source": [
    "[sdf]!(https://github.com/C4712/git_test_image/main/images/5_bagging.png)"
   ]
  },
  {
   "cell_type": "markdown",
   "id": "31fc914d",
   "metadata": {},
   "source": [
    "<img src=\"images/5_bagging.png\" style=\"width:600px;height:300px;\">"
   ]
  },
  {
   "cell_type": "markdown",
   "id": "6f6fef8a",
   "metadata": {
    "ExecuteTime": {
     "end_time": "2022-04-18T07:15:59.136812Z",
     "start_time": "2022-04-18T07:15:59.027451Z"
    }
   },
   "source": [
    "私有得token\n",
    "![img](https://raw.githubusercontent.com/EvilPsyCHo/BoolArtCourse/main/%E7%9B%91%E7%9D%A3%E5%AD%A6%E4%B9%A0/assets/5_bagging.png?token=GHSAT0AAAAAABSYFOT7FZCVZQ76JUOXNRMGYS5DIAQ)"
   ]
  }
 ],
 "metadata": {
  "kernelspec": {
   "display_name": "new_env",
   "language": "python",
   "name": "new_env"
  },
  "language_info": {
   "codemirror_mode": {
    "name": "ipython",
    "version": 3
   },
   "file_extension": ".py",
   "mimetype": "text/x-python",
   "name": "python",
   "nbconvert_exporter": "python",
   "pygments_lexer": "ipython3",
   "version": "3.7.11"
  },
  "toc": {
   "base_numbering": 1,
   "nav_menu": {},
   "number_sections": true,
   "sideBar": true,
   "skip_h1_title": false,
   "title_cell": "Table of Contents",
   "title_sidebar": "Contents",
   "toc_cell": false,
   "toc_position": {},
   "toc_section_display": true,
   "toc_window_display": false
  }
 },
 "nbformat": 4,
 "nbformat_minor": 5
}
