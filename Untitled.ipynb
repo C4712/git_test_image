{
 "cells": [
  {
   "cell_type": "markdown",
   "id": "a74caae3",
   "metadata": {},
   "source": [
    "# 图片\n",
    "![img](./images/5_bagging.png)"
   ]
  },
  {
   "cell_type": "markdown",
   "id": "0736aee4",
   "metadata": {
    "ExecuteTime": {
     "end_time": "2022-04-18T06:50:21.706730Z",
     "start_time": "2022-04-18T06:50:21.703819Z"
    }
   },
   "source": [
    "<img style=\"float: center;\" src=\"https://raw.githubusercontent.com/C4712/git_test_image/main/images/5_bagging.png?token=GHSAT0AAAAAABSYFOT6Q7B74VOYQDPRNRS2YS5BI3A\">"
   ]
  }
 ],
 "metadata": {
  "kernelspec": {
   "display_name": "new_env",
   "language": "python",
   "name": "new_env"
  },
  "language_info": {
   "codemirror_mode": {
    "name": "ipython",
    "version": 3
   },
   "file_extension": ".py",
   "mimetype": "text/x-python",
   "name": "python",
   "nbconvert_exporter": "python",
   "pygments_lexer": "ipython3",
   "version": "3.7.11"
  },
  "toc": {
   "base_numbering": 1,
   "nav_menu": {},
   "number_sections": true,
   "sideBar": true,
   "skip_h1_title": false,
   "title_cell": "Table of Contents",
   "title_sidebar": "Contents",
   "toc_cell": false,
   "toc_position": {},
   "toc_section_display": true,
   "toc_window_display": false
  }
 },
 "nbformat": 4,
 "nbformat_minor": 5
}
